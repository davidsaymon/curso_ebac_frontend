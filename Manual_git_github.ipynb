{
  "cells": [
    {
      "cell_type": "markdown",
      "metadata": {
        "id": "view-in-github",
        "colab_type": "text"
      },
      "source": [
        "<a href=\"https://colab.research.google.com/github/davidsaymon/curso_ebac_frontend/blob/main/Manual_git_github.ipynb\" target=\"_parent\"><img src=\"https://colab.research.google.com/assets/colab-badge.svg\" alt=\"Open In Colab\"/></a>"
      ]
    },
    {
      "cell_type": "markdown",
      "source": [
        "# **GIT E GITHUB**\n"
      ],
      "metadata": {
        "id": "28lSfOXu1Y39"
      }
    },
    {
      "cell_type": "markdown",
      "source": [
        "#1 - Conceitos"
      ],
      "metadata": {
        "id": "pVIvhpYr5Aq9"
      }
    },
    {
      "cell_type": "markdown",
      "source": [
        "# 1.1 o que é **GIT**"
      ],
      "metadata": {
        "id": "WOkMgxNv5NH4"
      }
    },
    {
      "cell_type": "markdown",
      "source": [
        "É um sistema de controle de versão distribuído amplamente utilizado para o gerenciamento de código-fonte e o acompanhamento de mudanças em projetos de software. O Git permite que desenvolvedores e equipes de desenvolvimento acompanhem as alterações no código-fonte de um projeto, colaborando de forma eficaz e mantendo um histórico completo de todas as mudanças. Ele oferece várias funcionalidades, incluindo:\n",
        "\n",
        "Controle de Versão: O Git mantém um registro completo de todas as versões do código, o que permite aos desenvolvedores acessar e recuperar versões anteriores do código facilmente.\n",
        "\n",
        "Ramificação e Mesclagem: O Git permite que os desenvolvedores criem ramificações do código-fonte para trabalhar em novos recursos ou correções de bugs separadamente. Posteriormente, as ramificações podem ser mescladas de volta à branch principal.\n",
        "\n",
        "Colaboração: Várias pessoas podem trabalhar em um projeto Git simultaneamente, facilitando a colaboração entre desenvolvedores de diferentes locais geográficos.\n",
        "\n",
        "Rastreamento de Alterações: O Git mantém um registro detalhado de todas as alterações no código-fonte, incluindo quem fez a alteração e quando ela foi feita.\n",
        "\n",
        "Distribuição: O Git é um sistema distribuído, o que significa que cada desenvolvedor tem uma cópia completa do repositório Git em seu sistema local. Isso permite que os desenvolvedores trabalhem offline e sincronizem as alterações quando estiverem online.\n",
        "\n",
        "Ferramentas de Comando e Interfaces Gráficas: Existem várias ferramentas de linha de comando e interfaces gráficas que facilitam o uso do Git, como o Git Bash, o GitHub Desktop e o Sourcetree."
      ],
      "metadata": {
        "id": "y25MdtpQ5b5P"
      }
    },
    {
      "cell_type": "markdown",
      "source": [
        "# 1.2 O que é **GITHUB**"
      ],
      "metadata": {
        "id": "NEVLdQTH4Kg-"
      }
    },
    {
      "cell_type": "markdown",
      "source": [
        "O GitHub é uma plataforma de hospedagem de repositórios de controle de versão que oferece serviços para desenvolvedores e equipes de desenvolvimento de software.\n",
        "\n",
        "Aqui estão algumas das principais características e funções do GitHub:\n",
        "\n",
        "Hospedagem de Repositórios: O GitHub permite que os desenvolvedores armazenem seus repositórios Git na nuvem. Isso facilita o compartilhamento do código com outros membros da equipe e colaboradores externos.\n",
        "\n",
        "Colaboração: O GitHub é projetado para a colaboração. Múltiplos desenvolvedores podem trabalhar em um projeto compartilhado, contribuindo com código, reportando problemas (issues) e colaborando em projetos de código aberto.\n",
        "\n",
        "Controle de Versão: O GitHub utiliza o Git como sistema de controle de versão subjacente. Isso significa que ele oferece funcionalidades avançadas de controle de versão, como ramificação, mesclagem e rastreamento de alterações.\n",
        "\n",
        "Gestão de Issues: Os projetos no GitHub podem acompanhar problemas (issues), que podem ser usados para relatar bugs, solicitar novos recursos ou discutir tarefas relacionadas ao projeto. Os desenvolvedores podem atribuir issues a si mesmos ou a outros membros da equipe e acompanhar seu progresso.\n",
        "\n",
        "Pull Requests: Os Pull Requests (PRs) são usados para propor alterações ao código-fonte e solicitar que essas alterações sejam revisadas e mescladas no repositório principal. Isso é essencial para a colaboração e para manter um controle rigoroso sobre o código que é incorporado ao projeto.\n",
        "\n",
        "Integração Contínua: O GitHub integra-se com várias ferramentas de integração contínua e implantação contínua (CI/CD), o que permite automatizar a construção, testes e implantação de código.\n",
        "\n",
        "Segurança: O GitHub oferece ferramentas e recursos para ajudar a manter os repositórios seguros, como análise de código estática e detecção de vulnerabilidades em dependências.\n",
        "\n",
        "Comunidade: O GitHub é uma grande comunidade de desenvolvedores e projetos de código aberto. Muitos projetos de código aberto são hospedados no GitHub, o que facilita a colaboração global em uma ampla variedade de projetos.\n",
        "\n",
        "Hospedagem de Páginas da Web: Além de repositórios de código, o GitHub permite a hospedagem de páginas da web diretamente dos repositórios, tornando-o útil para a criação de sites estáticos e documentação de projetos."
      ],
      "metadata": {
        "id": "UELH2Upl5s1F"
      }
    },
    {
      "cell_type": "markdown",
      "source": [
        "# 2 - **Termos e comandos**"
      ],
      "metadata": {
        "id": "0so1Bcs6CVYX"
      }
    },
    {
      "cell_type": "markdown",
      "source": [
        "#2.0 **git init**\n",
        "\n",
        "O comando git init é usado para iniciar um novo repositório Git em um diretório local. Quando você executa o git init, ele cria uma estrutura Git vazia no diretório que você especificar, permitindo que você comece a rastrear alterações no código-fonte do seu projeto. Aqui estão os principais usos e funcionalidades do git init:"
      ],
      "metadata": {
        "id": "DofWC1l_Cd-9"
      }
    },
    {
      "cell_type": "code",
      "source": [
        "git init"
      ],
      "metadata": {
        "id": "sx6W33IsF--6"
      },
      "execution_count": null,
      "outputs": []
    },
    {
      "cell_type": "markdown",
      "source": [
        "#2.1 **git add**\n",
        "\n",
        "o comando git add é usado para adicionar alterações no seu diretório de trabalho ao índice, que é também conhecido como a \"staging area\". Essas alterações no índice são preparadas para serem incluídas no próximo commit.\n",
        "\n",
        "Aqui estão algumas formas comuns de usar o git add:"
      ],
      "metadata": {
        "id": "ipfaSy4WGAqO"
      }
    },
    {
      "cell_type": "markdown",
      "source": [
        "#2.1.0 Adicionar um Arquivo Específico\n",
        "\n",
        "Você pode adicionar um arquivo específico ao índice usando o nome do arquivo. Por exemplo:"
      ],
      "metadata": {
        "id": "0DShzkK6GWSH"
      }
    },
    {
      "cell_type": "code",
      "source": [
        "git add arquivo.txt"
      ],
      "metadata": {
        "id": "gTs-ROLWGXBB"
      },
      "execution_count": null,
      "outputs": []
    },
    {
      "cell_type": "markdown",
      "source": [
        "#2.1.1 Adicionar Todos os Arquivos Modificados:\n",
        "\n",
        "Para adicionar todas as alterações (novos arquivos, arquivos modificados e arquivos excluídos), você pode usar:"
      ],
      "metadata": {
        "id": "2UVozbYxGbWP"
      }
    },
    {
      "cell_type": "code",
      "source": [
        "git add ."
      ],
      "metadata": {
        "id": "bD8WgGQRGfbs"
      },
      "execution_count": null,
      "outputs": []
    },
    {
      "cell_type": "markdown",
      "source": [
        "#2.2 **Master or main**\n",
        "\n",
        "refere-se à branch (ramificação) principal do repositório. Esta é a branch padrão criada quando você inicia um novo repositório Git."
      ],
      "metadata": {
        "id": "SxIO3EEaCoe8"
      }
    },
    {
      "cell_type": "markdown",
      "source": [
        "#2.2.1 Modificando Master para main"
      ],
      "metadata": {
        "id": "-rTi7Tp3MMua"
      }
    },
    {
      "cell_type": "code",
      "source": [
        "git branch -M \"main\" #/*Comando para modificar o nome da branch principal de Master para main.*/"
      ],
      "metadata": {
        "id": "ou3OXRHvMVGR"
      },
      "execution_count": null,
      "outputs": []
    },
    {
      "cell_type": "markdown",
      "source": [
        "#2.3 **Branch**\n",
        "\n",
        "Uma branch (ramificação) em Git é uma linha de desenvolvimento independente que diverge do fluxo principal de desenvolvimento"
      ],
      "metadata": {
        "id": "gx-uPu92C9CM"
      }
    },
    {
      "cell_type": "markdown",
      "source": [
        "#2.4 **Commit**\n",
        "\n",
        "Um \"commit\" é uma operação que registra uma alteração no código-fonte do projeto. Um commit representa um ponto específico na história do repositório Git, onde uma ou mais alterações (como adições, edições ou exclusões de arquivos) são registradas permanentemente."
      ],
      "metadata": {
        "id": "uKRNJQ0EDHMa"
      }
    },
    {
      "cell_type": "code",
      "source": [
        "git commit -m \"mensagem que detalha a modificação ou o que é o arquivo\""
      ],
      "metadata": {
        "id": "LRzbpU7ALgl0"
      },
      "execution_count": null,
      "outputs": []
    },
    {
      "cell_type": "markdown",
      "source": [
        "# 2.5 **Merge**\n",
        "\n",
        "A operação de merge (mesclagem) no Git é o processo de combinar o conteúdo de duas ou mais branches (ramificações) em uma única branch. Isso é frequentemente usado para incorporar as alterações de uma branch secundária (ou \"feature branch\") de volta à branch principal (como \"master\" ou \"main\")"
      ],
      "metadata": {
        "id": "COkRAhDuDTwZ"
      }
    },
    {
      "cell_type": "markdown",
      "source": [
        "#2.6 **Remote**\n",
        "\n",
        "se refere a um repositório Git que não está localmente em sua máquina, mas em algum outro local, como em um servidor remoto na rede."
      ],
      "metadata": {
        "id": "UyKkKOdbDeJ1"
      }
    },
    {
      "cell_type": "markdown",
      "source": [
        "2.7 **Push**\n",
        "\n",
        "O comando git push no Git é usado para enviar as alterações feitas no seu repositório local para um repositório remoto."
      ],
      "metadata": {
        "id": "kjZ90y5WDxOd"
      }
    },
    {
      "cell_type": "markdown",
      "source": [
        "Envio de Commits para um Repositório Remoto: Após fazer commits no seu repositório local com o comando git commit, você pode usar git push para enviar esses commits para um repositório remoto. Isso torna as alterações visíveis para outras pessoas que têm acesso ao repositório remoto."
      ],
      "metadata": {
        "id": "rKlccj8aEJvX"
      }
    },
    {
      "cell_type": "code",
      "source": [
        "git push"
      ],
      "metadata": {
        "id": "7G5Tw5IuEKj_"
      },
      "execution_count": null,
      "outputs": []
    },
    {
      "cell_type": "markdown",
      "source": [
        "#2.7.1 Especificando a Branch:\n",
        "\n",
        "Você pode especificar a branch local que deseja enviar para o repositório remoto, bem como a branch remota de destino. Por exemplo, para enviar a branch local \"main\" para a branch remota \"main\" em um repositório chamado \"origin\":"
      ],
      "metadata": {
        "id": "gycSZZn0EURk"
      }
    },
    {
      "cell_type": "code",
      "source": [
        "git push origin main"
      ],
      "metadata": {
        "id": "FA6fr9wzEfyS"
      },
      "execution_count": null,
      "outputs": []
    },
    {
      "cell_type": "markdown",
      "source": [
        "#2.7.2 Criação de uma Nova Branch Remota (opcional):\n",
        "\n",
        "Se você deseja criar uma nova branch remota com base em uma branch local, você pode fazer isso usando git push e a opção -u:"
      ],
      "metadata": {
        "id": "DoPkj16IEkEY"
      }
    },
    {
      "cell_type": "code",
      "source": [
        "git push -u origin minha-branch-local"
      ],
      "metadata": {
        "id": "91VTLSztEoXs"
      },
      "execution_count": null,
      "outputs": []
    },
    {
      "cell_type": "markdown",
      "source": [
        "Atualização de Branches Remotas: O git push também é usado para atualizar branches remotas com as alterações locais. Quando você faz um push para uma branch remota existente, ele atualiza a branch remota com os commits locais que não estão presentes na branch remota."
      ],
      "metadata": {
        "id": "lsfLXMPsE3G6"
      }
    },
    {
      "cell_type": "markdown",
      "source": [
        "**Git Pull**\n",
        "\n",
        " comando git pull é usado no Git para atualizar o seu repositório local com as alterações do repositório remoto."
      ],
      "metadata": {
        "id": "L2sSooemE3vd"
      }
    },
    {
      "cell_type": "code",
      "source": [
        "git pull"
      ],
      "metadata": {
        "id": "_54R4GbwFVce"
      },
      "execution_count": null,
      "outputs": []
    },
    {
      "cell_type": "markdown",
      "source": [
        "#2.8 **git status**\n",
        "\n",
        "O comando git status é usado no Git para exibir informações sobre o estado atual do seu repositório local. Ele fornece detalhes sobre quais arquivos foram modificados, adicionados ou excluídos no seu diretório de trabalho e se essas alterações foram ou não preparadas (adicionadas ao índice) para um futuro commit."
      ],
      "metadata": {
        "id": "lsbmjy9KI7FU"
      }
    },
    {
      "cell_type": "markdown",
      "source": [
        "#2.8.1 Changes to be committed (Mudanças a serem commitadas):\n",
        "\n",
        "Nesta seção, o git status mostra as alterações que foram preparadas e estão prontas para serem incluídas no próximo commit. Isso inclui informações sobre arquivos que foram adicionados ao índice (staging area), mas ainda não foram confirmados em um commit."
      ],
      "metadata": {
        "id": "hnPjv6SxJEpj"
      }
    },
    {
      "cell_type": "markdown",
      "source": [
        "#2.8.2 Untracked files (Arquivos não rastreados):\n",
        "\n",
        "Nesta seção, o git status lista os arquivos que existem em seu diretório de trabalho, mas que o Git não está rastreando. Isso pode incluir novos arquivos que você ainda não adicionou ao Git ou arquivos que foram modificados, mas que o Git não está ciente devido à falta de rastreamento."
      ],
      "metadata": {
        "id": "qhzJGAS0JM8f"
      }
    },
    {
      "cell_type": "markdown",
      "source": [
        "Aqui está um exemplo de saída típica do git status:"
      ],
      "metadata": {
        "id": "KL2iDO7kJVX9"
      }
    },
    {
      "cell_type": "code",
      "source": [
        "On branch main\n",
        "your branch is up to date with 'origin/main'. #/*Na filial principal sua filial está atualizada com 'Origem/principal'.*/\n",
        "\n",
        "Changes to be commited:\n",
        "  (use \"git reset HEAD <file>...\" to unstage) #/*Mudanças a serem confirmadas: (use \"git reset HEAD <arquivo>...\" para desestabilizar)*/\n",
        "\n",
        "    new file: arquivo1.txt\n",
        "    modified: arquivo2.txt\n",
        "\n",
        "Untracked files: #/*Arquivos não rastreados:*/\n",
        "  (use \"git add <file>...\" to include in what will be commited) #/*(use \"git add <file>...\" para incluir no que será confirmado)*/\n",
        "\n",
        "    arquivo3.txt"
      ],
      "metadata": {
        "colab": {
          "base_uri": "https://localhost:8080/",
          "height": 144
        },
        "id": "u652BUv7JY-5",
        "outputId": "6b0e945e-a0f8-4859-9219-115a3a154327"
      },
      "execution_count": 1,
      "outputs": [
        {
          "output_type": "error",
          "ename": "SyntaxError",
          "evalue": "ignored",
          "traceback": [
            "\u001b[0;36m  File \u001b[0;32m\"<ipython-input-1-4b119e56f8f8>\"\u001b[0;36m, line \u001b[0;32m1\u001b[0m\n\u001b[0;31m    On branch main\u001b[0m\n\u001b[0m       ^\u001b[0m\n\u001b[0;31mSyntaxError\u001b[0m\u001b[0;31m:\u001b[0m invalid syntax\n"
          ]
        }
      ]
    },
    {
      "cell_type": "markdown",
      "source": [
        "#3.0 **Primeiro envio de arquivos até o GITHUB**\n",
        "\n"
      ],
      "metadata": {
        "id": "h_IZfNvwPpUd"
      }
    },
    {
      "cell_type": "markdown",
      "source": [],
      "metadata": {
        "id": "ISJkrmqLP66I"
      }
    },
    {
      "cell_type": "code",
      "source": [
        "git init #/*Para iniciar um novo repositório*/\n",
        "\n",
        "git add arquivo.txt #/*Envia o arquivo para area de staging*/\n",
        "\n",
        "git status #/*Para conferir se o arquivo foi para o staging. O nome do arquivo deve aparecer em verde.*/\n",
        "\n",
        "git commit -m \"Adicionando um arquivo com a estrutura da função\" #/*Commit é a adição de um novo ponto na historia do projeto*/\n",
        "\n",
        "git branch -M \"main\" #/*Para renomear a branch de Master para main, caso ainda não tenha sido feito*/\n",
        "\n",
        "git status #/*Para confirmar se foi mudado para *main**/\n",
        "\n",
        "No GitHub\n",
        "\n",
        "1 NEW REPOSITORY\n",
        "\n",
        "2 Coloca nome do repositório.\n",
        "\n",
        "3 Create repository\n",
        "\n",
        "4 git remote add origin https://github.com/davidsaymon/projetogit.git\n",
        "#/* git para identificar que é um comando git*/\n",
        "#/*remote é a conexão do repositório local com o repositório do github*/\n",
        "#/*add para adicionar*/\n",
        "#/*origin apelido do repositório do github*/\n",
        "#/*Git faça essa conexão do repositorio local com o repositorio origin do github*/\n",
        "\n",
        "\n",
        "5 git push -u origin main\n",
        "#/*Empurrar o arquivo do local para o origin do github*/\n"
      ],
      "metadata": {
        "colab": {
          "base_uri": "https://localhost:8080/",
          "height": 144
        },
        "id": "O6NlCtbzP9Ta",
        "outputId": "e0175ce0-1799-4136-cb25-e7291d525923"
      },
      "execution_count": 2,
      "outputs": [
        {
          "output_type": "error",
          "ename": "SyntaxError",
          "evalue": "ignored",
          "traceback": [
            "\u001b[0;36m  File \u001b[0;32m\"<ipython-input-2-bdc381e5fcae>\"\u001b[0;36m, line \u001b[0;32m1\u001b[0m\n\u001b[0;31m    git init #/*Para iniciar um novo repositório*/\u001b[0m\n\u001b[0m        ^\u001b[0m\n\u001b[0;31mSyntaxError\u001b[0m\u001b[0;31m:\u001b[0m invalid syntax\n"
          ]
        }
      ]
    }
  ],
  "metadata": {
    "colab": {
      "name": "Olá, este é o Colaboratory",
      "toc_visible": true,
      "provenance": [],
      "include_colab_link": true
    },
    "kernelspec": {
      "display_name": "Python 3",
      "name": "python3"
    }
  },
  "nbformat": 4,
  "nbformat_minor": 0
}